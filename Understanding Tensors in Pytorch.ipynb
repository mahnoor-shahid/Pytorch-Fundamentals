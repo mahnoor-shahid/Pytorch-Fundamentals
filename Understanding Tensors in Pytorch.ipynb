{
 "cells": [
  {
   "cell_type": "markdown",
   "metadata": {},
   "source": [
    "## Basics of Tensors\n",
    "\n",
    "A tensor is a generalization of vectors and matrices and is easily understood as a multidimensional array.It is a term and set of techniques known in machine learning in the training and operation of deep learning models can be described in terms of tensors. In many cases tensors are used as a replacement for NumPy to use the power of GPUs.\n",
    "\n",
    "Tensors are a type of data structure used in linear algebra, and like vectors and matrices, you can calculate arithmetic operations with tensors."
   ]
  },
  {
   "cell_type": "markdown",
   "metadata": {},
   "source": [
    "## You remember Numpy, right?"
   ]
  },
  {
   "cell_type": "code",
   "execution_count": 1,
   "metadata": {},
   "outputs": [],
   "source": [
    "# Creating an array using numpy library\n",
    "import numpy as np\n",
    "arr = np.array([1,2,3,4,5,6,7])"
   ]
  },
  {
   "cell_type": "code",
   "execution_count": 2,
   "metadata": {},
   "outputs": [
    {
     "name": "stdout",
     "output_type": "stream",
     "text": [
      "int32\n",
      "(7,)\n",
      "7\n"
     ]
    }
   ],
   "source": [
    "# data type of array\n",
    "print(arr.dtype)\n",
    "\n",
    "# shape of array\n",
    "print(arr.shape)\n",
    "print(arr.size)"
   ]
  },
  {
   "cell_type": "markdown",
   "metadata": {},
   "source": [
    "## Here comes... tensors!"
   ]
  },
  {
   "cell_type": "code",
   "execution_count": 3,
   "metadata": {},
   "outputs": [
    {
     "data": {
      "text/plain": [
       "'1.8.1'"
      ]
     },
     "execution_count": 3,
     "metadata": {},
     "output_type": "execute_result"
    }
   ],
   "source": [
    "# loading torch library \n",
    "import torch \n",
    "\n",
    "# checking the version of torch library\n",
    "torch.__version__"
   ]
  },
  {
   "cell_type": "code",
   "execution_count": 4,
   "metadata": {},
   "outputs": [],
   "source": [
    "# to set the device to cuda if available otherwise set it to cpu\n",
    "if torch.cuda.is_available():\n",
    "    device = \"cuda\"\n",
    "else:\n",
    "    device = \"cpu\""
   ]
  },
  {
   "cell_type": "code",
   "execution_count": 5,
   "metadata": {},
   "outputs": [
    {
     "data": {
      "text/plain": [
       "tensor([1, 2, 3, 4, 5, 6, 7], dtype=torch.int32)"
      ]
     },
     "execution_count": 5,
     "metadata": {},
     "output_type": "execute_result"
    }
   ],
   "source": [
    "# converting the numpy array arr to tensor\n",
    "tensor = torch.from_numpy(arr)\n",
    "tensor"
   ]
  },
  {
   "cell_type": "code",
   "execution_count": 6,
   "metadata": {},
   "outputs": [
    {
     "name": "stdout",
     "output_type": "stream",
     "text": [
      "[1 2 3 4 5 6 7]\n",
      "int32\n"
     ]
    }
   ],
   "source": [
    "# converting a tensor to array\n",
    "array_form = tensor.numpy()\n",
    "print(array_form)\n",
    "print(array_form.dtype)"
   ]
  },
  {
   "cell_type": "code",
   "execution_count": 7,
   "metadata": {},
   "outputs": [
    {
     "data": {
      "text/plain": [
       "tensor([1., 2., 3., 4., 5., 6., 7.], device='cuda:0')"
      ]
     },
     "execution_count": 7,
     "metadata": {},
     "output_type": "execute_result"
    }
   ],
   "source": [
    "# converting the numpy array arr to tensor with dtype float32 and device to cude\n",
    "tensor = torch.tensor(arr, dtype=torch.float32, device=device)\n",
    "tensor"
   ]
  },
  {
   "cell_type": "code",
   "execution_count": 8,
   "metadata": {},
   "outputs": [
    {
     "name": "stdout",
     "output_type": "stream",
     "text": [
      "torch.Size([7])\n",
      "torch.Size([7])\n"
     ]
    }
   ],
   "source": [
    "# checking the shape or size of tensor\n",
    "print(tensor.shape)\n",
    "print(tensor.size())"
   ]
  },
  {
   "cell_type": "code",
   "execution_count": 9,
   "metadata": {},
   "outputs": [
    {
     "name": "stdout",
     "output_type": "stream",
     "text": [
      "tensor(5., device='cuda:0')\n",
      "tensor([1., 2., 3., 4.], device='cuda:0')\n",
      "tensor([5., 6., 7.], device='cuda:0')\n"
     ]
    }
   ],
   "source": [
    "# accessing tensor using indexing like arrays\n",
    "print(tensor[4])\n",
    "print(tensor[:4])\n",
    "print(tensor[4:])"
   ]
  },
  {
   "cell_type": "code",
   "execution_count": 10,
   "metadata": {},
   "outputs": [
    {
     "name": "stdout",
     "output_type": "stream",
     "text": [
      "tensor([   1.,    2.,    3.,    4.,    5.,    6., 1000.], device='cuda:0')\n"
     ]
    }
   ],
   "source": [
    "# changing the value of tensor[6] that is 7th element\n",
    "tensor[6] = 1000\n",
    "print(tensor)"
   ]
  },
  {
   "cell_type": "code",
   "execution_count": 11,
   "metadata": {},
   "outputs": [
    {
     "name": "stdout",
     "output_type": "stream",
     "text": [
      "Nope! arr and tensor are different now!\n"
     ]
    }
   ],
   "source": [
    "# array arr has the same effect because they share the same memory location\n",
    "if(arr==tensor):\n",
    "    print(\"Yes! arr has been affected too!\")\n",
    "else:\n",
    "    print(\"Nope! arr and tensor are different now!\")"
   ]
  },
  {
   "cell_type": "code",
   "execution_count": 12,
   "metadata": {},
   "outputs": [
    {
     "name": "stdout",
     "output_type": "stream",
     "text": [
      "tensor([1, 2, 3, 4, 5, 6, 7], dtype=torch.int32)\n",
      "Nope! arr and tensor are different now!\n"
     ]
    }
   ],
   "source": [
    "# make a copy of that array separately\n",
    "tensor = torch.tensor(arr)\n",
    "print(tensor)\n",
    "tensor[0] = 101\n",
    "\n",
    "# let's check again if arr and tensor are still same?\n",
    "if(arr==tensor):\n",
    "    print(\"Yes! arr has been affected too!\")\n",
    "else:\n",
    "    print(\"Nope! arr and tensor are different now!\")"
   ]
  },
  {
   "cell_type": "markdown",
   "metadata": {},
   "source": [
    "## Wanna play with some built-in methods?"
   ]
  },
  {
   "cell_type": "code",
   "execution_count": 13,
   "metadata": {},
   "outputs": [
    {
     "data": {
      "text/plain": [
       "tensor([[   1.,    2.,    3.,    4.],\n",
       "        [   5.,    6., 1000.,    0.],\n",
       "        [   0.,    0.,    0.,    0.],\n",
       "        [   0.,    0.,    0.,    0.]], device='cuda:0')"
      ]
     },
     "execution_count": 13,
     "metadata": {},
     "output_type": "execute_result"
    }
   ],
   "source": [
    "# creating a tensor using empty method (it will give uninitialized values)\n",
    "tensor = torch.empty(size=(4,4), device=device, dtype=torch.float32)\n",
    "tensor"
   ]
  },
  {
   "cell_type": "code",
   "execution_count": 14,
   "metadata": {},
   "outputs": [
    {
     "data": {
      "text/plain": [
       "tensor([[0., 0., 0.],\n",
       "        [0., 0., 0.],\n",
       "        [0., 0., 0.],\n",
       "        [0., 0., 0.]], device='cuda:0')"
      ]
     },
     "execution_count": 14,
     "metadata": {},
     "output_type": "execute_result"
    }
   ],
   "source": [
    "# creating a tensor using zeros method\n",
    "tensor = torch.zeros(size=(4,3),device=device, dtype=torch.float32)\n",
    "tensor"
   ]
  },
  {
   "cell_type": "code",
   "execution_count": 15,
   "metadata": {},
   "outputs": [
    {
     "data": {
      "text/plain": [
       "tensor([[1., 1.],\n",
       "        [1., 1.],\n",
       "        [1., 1.]], device='cuda:0')"
      ]
     },
     "execution_count": 15,
     "metadata": {},
     "output_type": "execute_result"
    }
   ],
   "source": [
    "# creating a tensor using ones method\n",
    "tensor = torch.ones(size=(3,2),device=device, dtype=torch.float32)\n",
    "tensor"
   ]
  },
  {
   "cell_type": "code",
   "execution_count": 16,
   "metadata": {},
   "outputs": [
    {
     "data": {
      "text/plain": [
       "tensor([[1., 0., 0., 0., 0.],\n",
       "        [0., 1., 0., 0., 0.],\n",
       "        [0., 0., 1., 0., 0.],\n",
       "        [0., 0., 0., 1., 0.],\n",
       "        [0., 0., 0., 0., 1.]], device='cuda:0')"
      ]
     },
     "execution_count": 16,
     "metadata": {},
     "output_type": "execute_result"
    }
   ],
   "source": [
    "# creating a tensor using eye method\n",
    "tensor = torch.eye(n=5,device=device, dtype=torch.float32)\n",
    "tensor"
   ]
  },
  {
   "cell_type": "code",
   "execution_count": 17,
   "metadata": {},
   "outputs": [
    {
     "data": {
      "text/plain": [
       "tensor([1., 1., 1., 1., 1.], device='cuda:0')"
      ]
     },
     "execution_count": 17,
     "metadata": {},
     "output_type": "execute_result"
    }
   ],
   "source": [
    "# preserving the diagnol tensor of 5,5 ones tensor\n",
    "tensor = torch.diag(torch.ones(size=(5,5),device=device, dtype=torch.float32))\n",
    "tensor"
   ]
  },
  {
   "cell_type": "code",
   "execution_count": 18,
   "metadata": {},
   "outputs": [
    {
     "name": "stdout",
     "output_type": "stream",
     "text": [
      "tensor([[0.1303, 0.5126, 0.0540, 0.3751, 0.9108],\n",
      "        [0.6078, 0.5774, 0.6456, 0.7210, 0.4181],\n",
      "        [0.7092, 0.7998, 0.6720, 0.7320, 0.4381],\n",
      "        [0.8614, 0.6829, 0.6201, 0.2459, 0.7931],\n",
      "        [0.2538, 0.4662, 0.0914, 0.1991, 0.8007]], device='cuda:0')\n"
     ]
    },
    {
     "data": {
      "text/plain": [
       "tensor([0.1303, 0.5774, 0.6720, 0.2459, 0.8007], device='cuda:0')"
      ]
     },
     "execution_count": 18,
     "metadata": {},
     "output_type": "execute_result"
    }
   ],
   "source": [
    "# preserving the diagnol tensor of 5,5 random tensor\n",
    "tensor = torch.rand(size=(5,5),device=device, dtype=torch.float32)\n",
    "print(tensor)\n",
    "tensor = torch.diag(tensor)\n",
    "tensor"
   ]
  },
  {
   "cell_type": "code",
   "execution_count": 19,
   "metadata": {},
   "outputs": [
    {
     "data": {
      "text/plain": [
       "tensor([[0.0965, 0.8452],\n",
       "        [0.6570, 0.1522],\n",
       "        [0.4905, 0.3908]], device='cuda:0')"
      ]
     },
     "execution_count": 19,
     "metadata": {},
     "output_type": "execute_result"
    }
   ],
   "source": [
    "# creating a tensor using rand method\n",
    "tensor = torch.rand(size=(3,2),device=device, dtype=torch.float32)\n",
    "tensor"
   ]
  },
  {
   "cell_type": "code",
   "execution_count": 20,
   "metadata": {},
   "outputs": [
    {
     "data": {
      "text/plain": [
       "tensor([[0.7633, 0.5416],\n",
       "        [0.5772, 0.7087],\n",
       "        [0.5508, 0.6104],\n",
       "        [0.9836, 0.2911],\n",
       "        [0.2093, 0.0296],\n",
       "        [0.6751, 0.6145]], device='cuda:0')"
      ]
     },
     "execution_count": 20,
     "metadata": {},
     "output_type": "execute_result"
    }
   ],
   "source": [
    "# creating a tensor of 6x2 of random values\n",
    "tensor = torch.rand(size=(6,2), device=device, dtype=torch.float32)\n",
    "tensor"
   ]
  },
  {
   "cell_type": "markdown",
   "metadata": {},
   "source": [
    "#### Do you know the difference between the **arange** method and **linspace** method?"
   ]
  },
  {
   "cell_type": "code",
   "execution_count": 21,
   "metadata": {},
   "outputs": [
    {
     "data": {
      "text/plain": [
       "tensor([10, 15, 20, 25, 30, 35, 40, 45, 50, 55])"
      ]
     },
     "execution_count": 21,
     "metadata": {},
     "output_type": "execute_result"
    }
   ],
   "source": [
    "# creating a tensor of sequence 10 to 50 with skipping every 5 step\n",
    "tensor = torch.arange(start=10, end=60, step=5)\n",
    "tensor"
   ]
  },
  {
   "cell_type": "code",
   "execution_count": 22,
   "metadata": {},
   "outputs": [
    {
     "data": {
      "text/plain": [
       "tensor([10.0000, 22.5000, 35.0000, 47.5000, 60.0000])"
      ]
     },
     "execution_count": 22,
     "metadata": {},
     "output_type": "execute_result"
    }
   ],
   "source": [
    "# creating a tensor of sequence 10 to 50 with 7 equidistant values in between\n",
    "tensor = torch.linspace(start=10, end=60, steps=5)\n",
    "tensor"
   ]
  },
  {
   "cell_type": "code",
   "execution_count": 23,
   "metadata": {},
   "outputs": [
    {
     "data": {
      "text/plain": [
       "tensor([[ 10.,  20.,  30.,  40.],\n",
       "        [ 50.,  60.,  70.,  80.],\n",
       "        [ 90., 100., 110., 120.]], device='cuda:0')"
      ]
     },
     "execution_count": 23,
     "metadata": {},
     "output_type": "execute_result"
    }
   ],
   "source": [
    "# creating a 3x4 tensor of sequence 10 to 120 with skipping every 10 step\n",
    "tensor = torch.tensor(np.arange(10, 121, 10).reshape(3,4), device=device, dtype=torch.float32)\n",
    "tensor"
   ]
  },
  {
   "cell_type": "markdown",
   "metadata": {},
   "source": [
    "#### How do you get a tensor of normally disributed or uniformaly distributed values?"
   ]
  },
  {
   "cell_type": "code",
   "execution_count": 24,
   "metadata": {},
   "outputs": [
    {
     "data": {
      "text/plain": [
       "tensor([[-1.7846, -0.5352,  0.9449, -1.2678],\n",
       "        [-1.0597, -0.3154, -0.6508,  0.3372],\n",
       "        [ 0.6211,  1.2419,  0.7574, -0.9887]])"
      ]
     },
     "execution_count": 24,
     "metadata": {},
     "output_type": "execute_result"
    }
   ],
   "source": [
    "# creating a 3x4 tensor of unassigned values but normally distributed\n",
    "tensor = torch.empty(size=(3,4)).normal_(mean=0, std=1)\n",
    "tensor"
   ]
  },
  {
   "cell_type": "code",
   "execution_count": 25,
   "metadata": {},
   "outputs": [
    {
     "data": {
      "text/plain": [
       "tensor([[0.6735, 1.5083, 1.7405, 0.9018],\n",
       "        [1.7314, 0.5355, 1.7358, 1.6868],\n",
       "        [1.5744, 0.5803, 1.3210, 0.9562]])"
      ]
     },
     "execution_count": 25,
     "metadata": {},
     "output_type": "execute_result"
    }
   ],
   "source": [
    "# creating a 4x5 tensor of unassigned values but uniformly distributed\n",
    "tensor = torch.empty(size=(3,4)).uniform_(0, 2)\n",
    "tensor"
   ]
  },
  {
   "cell_type": "markdown",
   "metadata": {},
   "source": [
    "## Can we convert our tensors to different types? Yeah!"
   ]
  },
  {
   "cell_type": "code",
   "execution_count": 26,
   "metadata": {},
   "outputs": [
    {
     "data": {
      "text/plain": [
       "torch.int64"
      ]
     },
     "execution_count": 26,
     "metadata": {},
     "output_type": "execute_result"
    }
   ],
   "source": [
    "tensor = torch.arange(start=0, end=15, step=3)\n",
    "tensor.dtype"
   ]
  },
  {
   "cell_type": "code",
   "execution_count": 27,
   "metadata": {},
   "outputs": [
    {
     "data": {
      "text/plain": [
       "tensor([ 0,  3,  6,  9, 12], dtype=torch.int16)"
      ]
     },
     "execution_count": 27,
     "metadata": {},
     "output_type": "execute_result"
    }
   ],
   "source": [
    "# converting the above tensor to int16\n",
    "tensor.short()"
   ]
  },
  {
   "cell_type": "code",
   "execution_count": 28,
   "metadata": {},
   "outputs": [
    {
     "data": {
      "text/plain": [
       "tensor([ 0,  3,  6,  9, 12])"
      ]
     },
     "execution_count": 28,
     "metadata": {},
     "output_type": "execute_result"
    }
   ],
   "source": [
    "# converting the above tensor back to int64\n",
    "tensor.long()"
   ]
  },
  {
   "cell_type": "code",
   "execution_count": 29,
   "metadata": {},
   "outputs": [
    {
     "data": {
      "text/plain": [
       "tensor([False,  True,  True,  True,  True])"
      ]
     },
     "execution_count": 29,
     "metadata": {},
     "output_type": "execute_result"
    }
   ],
   "source": [
    "# converting the above tensor to boolean\n",
    "tensor.bool()"
   ]
  },
  {
   "cell_type": "code",
   "execution_count": 30,
   "metadata": {},
   "outputs": [
    {
     "data": {
      "text/plain": [
       "tensor([ 0.,  3.,  6.,  9., 12.], dtype=torch.float16)"
      ]
     },
     "execution_count": 30,
     "metadata": {},
     "output_type": "execute_result"
    }
   ],
   "source": [
    "# converting the above tensor to float16\n",
    "tensor.half()"
   ]
  },
  {
   "cell_type": "code",
   "execution_count": 31,
   "metadata": {},
   "outputs": [
    {
     "data": {
      "text/plain": [
       "tensor([ 0.,  3.,  6.,  9., 12.])"
      ]
     },
     "execution_count": 31,
     "metadata": {},
     "output_type": "execute_result"
    }
   ],
   "source": [
    "# converting the above tensor to float32\n",
    "tensor.float()"
   ]
  },
  {
   "cell_type": "code",
   "execution_count": 32,
   "metadata": {},
   "outputs": [
    {
     "data": {
      "text/plain": [
       "tensor([ 0.,  3.,  6.,  9., 12.], dtype=torch.float64)"
      ]
     },
     "execution_count": 32,
     "metadata": {},
     "output_type": "execute_result"
    }
   ],
   "source": [
    "# converting the above tensor to float64\n",
    "tensor.double()"
   ]
  },
  {
   "cell_type": "code",
   "execution_count": 33,
   "metadata": {},
   "outputs": [],
   "source": [
    "# just get the 1st and 2nd columns of the tensor \n",
    "# tensor[:,0:2]"
   ]
  },
  {
   "cell_type": "markdown",
   "metadata": {},
   "source": [
    "## How about some mathematical operations?"
   ]
  },
  {
   "cell_type": "code",
   "execution_count": 34,
   "metadata": {},
   "outputs": [
    {
     "data": {
      "text/plain": [
       "tensor([[ 1.,  8., 15., 22., 29.],\n",
       "        [36., 43., 50., 57., 64.],\n",
       "        [71., 78., 85., 92., 99.]], device='cuda:0')"
      ]
     },
     "execution_count": 34,
     "metadata": {},
     "output_type": "execute_result"
    }
   ],
   "source": [
    "tensor = torch.tensor(np.arange(1,100,7).reshape(3,5), device=device, dtype=torch.float32)\n",
    "tensor"
   ]
  },
  {
   "cell_type": "code",
   "execution_count": 35,
   "metadata": {},
   "outputs": [
    {
     "name": "stdout",
     "output_type": "stream",
     "text": [
      "tensor([[ 11.,  18.,  25.,  32.,  39.],\n",
      "        [ 46.,  53.,  60.,  67.,  74.],\n",
      "        [ 81.,  88.,  95., 102., 109.]], device='cuda:0')\n",
      "tensor([[ 11.,  18.,  25.,  32.,  39.],\n",
      "        [ 46.,  53.,  60.,  67.,  74.],\n",
      "        [ 81.,  88.,  95., 102., 109.]], device='cuda:0')\n"
     ]
    }
   ],
   "source": [
    "# add a scalar value to tensor made above using 2 different methods\n",
    "\n",
    "# method 1\n",
    "print(tensor + 10)\n",
    "\n",
    "# method 2\n",
    "print(torch.add(tensor,10))\n"
   ]
  },
  {
   "cell_type": "code",
   "execution_count": 36,
   "metadata": {},
   "outputs": [
    {
     "name": "stdout",
     "output_type": "stream",
     "text": [
      "torch.Size([3, 5])\n",
      "cuda:0\n",
      "torch.float32\n",
      "tensor([[ 11.,  23.,  35.,  47.,  59.],\n",
      "        [ 71.,  83.,  95., 107., 119.],\n",
      "        [131., 143., 155., 167., 179.]], device='cuda:0', dtype=torch.float64)\n",
      "tensor([[ 11.,  23.,  35.,  47.,  59.],\n",
      "        [ 71.,  83.,  95., 107., 119.],\n",
      "        [131., 143., 155., 167., 179.]], device='cuda:0', dtype=torch.float64)\n",
      "tensor([[ 11.,  23.,  35.,  47.,  59.],\n",
      "        [ 71.,  83.,  95., 107., 119.],\n",
      "        [131., 143., 155., 167., 179.]], device='cuda:0', dtype=torch.float64)\n"
     ]
    },
    {
     "data": {
      "text/plain": [
       "tensor([[ 11.,  23.,  35.,  47.,  59.],\n",
       "        [ 71.,  83.,  95., 107., 119.],\n",
       "        [131., 143., 155., 167., 179.]], device='cuda:0')"
      ]
     },
     "execution_count": 36,
     "metadata": {},
     "output_type": "execute_result"
    }
   ],
   "source": [
    "# add a tensor to the tensor made above using 4 different methods \n",
    "\n",
    "# method 1\n",
    "# shape of the tesors should be same and both should be on same device, although dtype can differ\n",
    "print(tensor.shape)\n",
    "print(tensor.device)\n",
    "print(tensor.dtype)\n",
    "c = tensor + torch.tensor(np.arange(10,81,5).reshape(3,5), dtype=torch.float64, device=device)\n",
    "print(c)\n",
    "\n",
    "# method 2\n",
    "c = torch.add(tensor,torch.tensor(np.arange(10,81,5).reshape(3,5), dtype=torch.float64, device=device))\n",
    "print(c)\n",
    "\n",
    "# method 3\n",
    "# the same operation above can be done using out argument of add method but initializing output variable is necessary\n",
    "d = torch.empty(size=(3,5), device=device, dtype=torch.float64)\n",
    "torch.add(tensor,torch.tensor(np.arange(10,81,5).reshape(3,5), dtype=torch.float64, device=device), out=d)\n",
    "print(d)\n",
    "\n",
    "# method 4\n",
    "# the same operation above can be done using inplace which much more better computationlly\n",
    "tensor.add_(torch.tensor(np.arange(10,81,5).reshape(3,5), dtype=torch.float64, device=device))\n"
   ]
  },
  {
   "cell_type": "code",
   "execution_count": 37,
   "metadata": {},
   "outputs": [
    {
     "name": "stdout",
     "output_type": "stream",
     "text": [
      "tensor(1425., device='cuda:0', dtype=torch.float64)\n",
      "tensor(1425., device='cuda:0', dtype=torch.float64)\n"
     ]
    }
   ],
   "source": [
    "# get a total of all the values in tensor c and d\n",
    "print(c.sum())\n",
    "print(d.sum())"
   ]
  },
  {
   "cell_type": "code",
   "execution_count": 38,
   "metadata": {},
   "outputs": [
    {
     "name": "stdout",
     "output_type": "stream",
     "text": [
      "torch.Size([3, 5])\n",
      "cuda:0\n",
      "torch.float32\n",
      "tensor([[ 1.,  8., 15., 22., 29.],\n",
      "        [36., 43., 50., 57., 64.],\n",
      "        [71., 78., 85., 92., 99.]], device='cuda:0', dtype=torch.float64)\n",
      "tensor([[ 1.,  8., 15., 22., 29.],\n",
      "        [36., 43., 50., 57., 64.],\n",
      "        [71., 78., 85., 92., 99.]], device='cuda:0', dtype=torch.float64)\n",
      "tensor([[ 1.,  8., 15., 22., 29.],\n",
      "        [36., 43., 50., 57., 64.],\n",
      "        [71., 78., 85., 92., 99.]], device='cuda:0', dtype=torch.float64)\n"
     ]
    },
    {
     "data": {
      "text/plain": [
       "tensor([[ 1.,  8., 15., 22., 29.],\n",
       "        [36., 43., 50., 57., 64.],\n",
       "        [71., 78., 85., 92., 99.]], device='cuda:0')"
      ]
     },
     "execution_count": 38,
     "metadata": {},
     "output_type": "execute_result"
    }
   ],
   "source": [
    "# subtract a tensor from the tensor made above using 4 different methods\n",
    "\n",
    "# method 1\n",
    "# shape of the tesors should be same and both should be on same device, although dtype can differ\n",
    "print(tensor.shape)\n",
    "print(tensor.device)\n",
    "print(tensor.dtype)\n",
    "c = tensor - torch.tensor(np.arange(10,81,5).reshape(3,5), dtype=torch.float64, device=device)\n",
    "print(c)\n",
    "\n",
    "# method 2\n",
    "c = torch.subtract(tensor,torch.tensor(np.arange(10,81,5).reshape(3,5), dtype=torch.float64, device=device))\n",
    "print(c)\n",
    "\n",
    "# method 3\n",
    "# the same operation above can be done using out argument of add method but initializing output variable is necessary\n",
    "d = torch.empty(size=(3,5), device=device, dtype=torch.float64)\n",
    "torch.subtract(tensor,torch.tensor(np.arange(10,81,5).reshape(3,5), dtype=torch.float64, device=device), out=d)\n",
    "print(d)\n",
    "\n",
    "# method 4\n",
    "# the same operation above can be done using inplace which much more better computationlly\n",
    "tensor.subtract_(torch.tensor(np.arange(10,81,5).reshape(3,5), dtype=torch.float64, device=device))\n"
   ]
  },
  {
   "cell_type": "markdown",
   "metadata": {},
   "source": [
    "#### We have two exponentiation ways..."
   ]
  },
  {
   "cell_type": "code",
   "execution_count": 39,
   "metadata": {},
   "outputs": [
    {
     "data": {
      "text/plain": [
       "tensor([[ 2,  4,  6],\n",
       "        [ 8, 10, 12],\n",
       "        [14, 16, 18]], device='cuda:0')"
      ]
     },
     "execution_count": 39,
     "metadata": {},
     "output_type": "execute_result"
    }
   ],
   "source": [
    "tensor = torch.tensor(np.arange(2,20,2).reshape(3,3), dtype=torch.int64, device=device)\n",
    "tensor"
   ]
  },
  {
   "cell_type": "code",
   "execution_count": 40,
   "metadata": {},
   "outputs": [
    {
     "name": "stdout",
     "output_type": "stream",
     "text": [
      "tensor([[ 2,  4,  6],\n",
      "        [ 8, 10, 12],\n",
      "        [14, 16, 18]], device='cuda:0')\n",
      "tensor([[  4,  16,  36],\n",
      "        [ 64, 100, 144],\n",
      "        [196, 256, 324]], device='cuda:0')\n",
      "tensor([[  4,  16,  36],\n",
      "        [ 64, 100, 144],\n",
      "        [196, 256, 324]], device='cuda:0')\n",
      "tensor([[      64,     4096,    46656],\n",
      "        [  262144,  1000000,  2985984],\n",
      "        [ 7529536, 16777216, 34012224]], device='cuda:0')\n"
     ]
    }
   ],
   "source": [
    "# exponential values with pow method\n",
    "print(tensor)\n",
    "print(tensor.pow_(2)) # underscore will make it inplace\n",
    "\n",
    "# exponential values with asterick asterik\n",
    "print(tensor)\n",
    "print(tensor ** 3)"
   ]
  },
  {
   "cell_type": "markdown",
   "metadata": {},
   "source": [
    "## Are you afraid of multiplication and dot products of tensors? Don't be."
   ]
  },
  {
   "cell_type": "code",
   "execution_count": 41,
   "metadata": {},
   "outputs": [
    {
     "name": "stdout",
     "output_type": "stream",
     "text": [
      "tensor([1., 2., 3., 4.], dtype=torch.float64)\n",
      "tensor([5., 6., 7., 8.], dtype=torch.float64)\n"
     ]
    }
   ],
   "source": [
    "# create 1D two tensors x and y \n",
    "x = torch.tensor(np.arange(1,5,1), dtype=torch.float64)\n",
    "y = torch.tensor(np.arange(5,9,1), dtype=torch.float64)\n",
    "print(x)\n",
    "print(y)"
   ]
  },
  {
   "cell_type": "code",
   "execution_count": 42,
   "metadata": {},
   "outputs": [
    {
     "data": {
      "text/plain": [
       "tensor([ 5., 12., 21., 32.], dtype=torch.float64)"
      ]
     },
     "execution_count": 42,
     "metadata": {},
     "output_type": "execute_result"
    }
   ],
   "source": [
    "# using mul method to multiply x and y\n",
    "z = torch.ones(4,dtype=torch.float64)\n",
    "torch.mul(x, y, out=z)"
   ]
  },
  {
   "cell_type": "code",
   "execution_count": 43,
   "metadata": {},
   "outputs": [
    {
     "data": {
      "text/plain": [
       "tensor(70., dtype=torch.float64)"
      ]
     },
     "execution_count": 43,
     "metadata": {},
     "output_type": "execute_result"
    }
   ],
   "source": [
    "# using dot method to get the dot product of tensors x and y\n",
    "# (1*5) + (2*6)+ (3*7) + (4*8)\n",
    "answer = torch.tensor(0, dtype=torch.float64)\n",
    "torch.dot(x,y, out=answer)"
   ]
  },
  {
   "cell_type": "code",
   "execution_count": 44,
   "metadata": {},
   "outputs": [
    {
     "name": "stdout",
     "output_type": "stream",
     "text": [
      "tensor([[1., 1., 1.],\n",
      "        [2., 2., 2.],\n",
      "        [3., 3., 3.]], dtype=torch.float64)\n",
      "tensor([1., 2., 3., 4., 5., 6., 7., 8., 9.], dtype=torch.float64)\n",
      "tensor([[1., 2., 3.],\n",
      "        [4., 5., 6.],\n",
      "        [7., 8., 9.]], dtype=torch.float64)\n"
     ]
    }
   ],
   "source": [
    "# create 2D two tensors x and y \n",
    "x = torch.tensor(np.repeat([1,2,3],3).reshape(3,3), dtype=torch.float64)\n",
    "y = torch.tensor(np.arange(1,10,1), dtype=torch.float64)\n",
    "print(x)\n",
    "print(y)\n",
    "\n",
    "# Reshape tensor y to 3x3\n",
    "y = y.view(3,3)\n",
    "print(y)"
   ]
  },
  {
   "cell_type": "code",
   "execution_count": 45,
   "metadata": {},
   "outputs": [
    {
     "name": "stdout",
     "output_type": "stream",
     "text": [
      "tensor([[ 1.,  2.,  3.],\n",
      "        [ 8., 10., 12.],\n",
      "        [21., 24., 27.]], dtype=torch.float64)\n",
      "tensor([[12., 15., 18.],\n",
      "        [24., 30., 36.],\n",
      "        [36., 45., 54.]], dtype=torch.float64)\n",
      "Yes! matmul function works the same way as x@y.\n"
     ]
    }
   ],
   "source": [
    "# using mul method to multiply x and y\n",
    "z1 = torch.ones(3,3, dtype=torch.float64)\n",
    "torch.mul(x, y, out = z1)\n",
    "print(z1)\n",
    "\n",
    "# using matmul method to perform matrix multiplication on tensors x and y\n",
    "z2 = torch.ones(3,3, dtype=torch.float64)\n",
    "torch.matmul(x, y, out = z2)\n",
    "print(z2)\n",
    "\n",
    "# using x@y to perform matmul operation\n",
    "if torch.all(torch.eq(x@y, z2)):\n",
    "    print(\"Yes! matmul function works the same way as x@y.\")\n",
    "else:\n",
    "    print(\"No! matmul function does not works the same way as x@y.\")"
   ]
  },
  {
   "cell_type": "markdown",
   "metadata": {},
   "source": [
    "### Difference between mul and matmul methods\n",
    "**mul** method is used to perform scalar multiplication on tensors where each value of a matrix is multiplied by the corresponding value from another matrix yet, **matmul** or **mm** performs the proper matrix multiplication. "
   ]
  },
  {
   "cell_type": "markdown",
   "metadata": {},
   "source": [
    "## Ever heard of Broadcasting?"
   ]
  },
  {
   "cell_type": "code",
   "execution_count": 46,
   "metadata": {},
   "outputs": [
    {
     "name": "stdout",
     "output_type": "stream",
     "text": [
      "tensor([[0.0428, 0.0676, 0.5676, 0.1198, 0.0292, 0.8118],\n",
      "        [0.6119, 0.5231, 0.3135, 0.7685, 0.5004, 0.4571],\n",
      "        [0.3247, 0.1678, 0.2631, 0.2155, 0.1486, 0.6649]], device='cuda:0')\n",
      "tensor([[0.4629, 0.7317, 0.4068, 0.5927, 0.2989, 0.4651]], device='cuda:0')\n"
     ]
    }
   ],
   "source": [
    "tensor_1 = torch.rand(size=(3,6), dtype=torch.float32, device=device)\n",
    "tensor_2 = torch.rand(size=(1,6), dtype=torch.float32, device=device)\n",
    "\n",
    "print(tensor_1)\n",
    "print(tensor_2)"
   ]
  },
  {
   "cell_type": "markdown",
   "metadata": {},
   "source": [
    "#### Can you add or subtract both tensors of different shapes?\n",
    "\n",
    "Yes, tensor_2 will duplicate its first row upto three rows to match the shape and will perform element wise add or subtract. Let's see..."
   ]
  },
  {
   "cell_type": "code",
   "execution_count": 47,
   "metadata": {},
   "outputs": [
    {
     "data": {
      "text/plain": [
       "tensor([[0.5056, 0.7992, 0.9745, 0.7125, 0.3281, 1.2769],\n",
       "        [1.0747, 1.2547, 0.7203, 1.3612, 0.7994, 0.9222],\n",
       "        [0.7876, 0.8995, 0.6700, 0.8082, 0.4476, 1.1300]], device='cuda:0')"
      ]
     },
     "execution_count": 47,
     "metadata": {},
     "output_type": "execute_result"
    }
   ],
   "source": [
    "tensor_1.add_(tensor_2)"
   ]
  },
  {
   "cell_type": "code",
   "execution_count": 48,
   "metadata": {},
   "outputs": [
    {
     "data": {
      "text/plain": [
       "tensor([[0.0428, 0.0676, 0.5676, 0.1198, 0.0292, 0.8118],\n",
       "        [0.6119, 0.5231, 0.3135, 0.7685, 0.5004, 0.4571],\n",
       "        [0.3247, 0.1678, 0.2631, 0.2155, 0.1486, 0.6649]], device='cuda:0')"
      ]
     },
     "execution_count": 48,
     "metadata": {},
     "output_type": "execute_result"
    }
   ],
   "source": [
    "tensor_1.subtract_(tensor_2)"
   ]
  },
  {
   "cell_type": "markdown",
   "metadata": {},
   "source": [
    "## Wait, there are useful mathematical methods still left..."
   ]
  },
  {
   "cell_type": "code",
   "execution_count": 49,
   "metadata": {},
   "outputs": [
    {
     "data": {
      "text/plain": [
       "tensor([[ 2., -1.,  5.,  0.],\n",
       "        [-1.,  3.,  3., -2.]], device='cuda:0')"
      ]
     },
     "execution_count": 49,
     "metadata": {},
     "output_type": "execute_result"
    }
   ],
   "source": [
    "tensor = torch.tensor([[2,-1,5,0],[-1,3,3,-2]], dtype=torch.float32, device=device)\n",
    "tensor"
   ]
  },
  {
   "cell_type": "code",
   "execution_count": 50,
   "metadata": {},
   "outputs": [
    {
     "name": "stdout",
     "output_type": "stream",
     "text": [
      "tensor(5., device='cuda:0')\n"
     ]
    }
   ],
   "source": [
    "# what is the maximum value of the tensor overall?\n",
    "value = torch.max(tensor)\n",
    "print(value)"
   ]
  },
  {
   "cell_type": "code",
   "execution_count": 51,
   "metadata": {},
   "outputs": [
    {
     "name": "stdout",
     "output_type": "stream",
     "text": [
      "tensor([2., 3., 5., 0.], device='cuda:0')\n",
      "tensor([0, 1, 0, 0], device='cuda:0')\n"
     ]
    }
   ],
   "source": [
    "# what is the maximum value of the tensor above and at which index value for every column?\n",
    "index, value = torch.max(tensor, dim=0) # dimension 0 means column wise\n",
    "print(index)\n",
    "print(value)"
   ]
  },
  {
   "cell_type": "code",
   "execution_count": 52,
   "metadata": {},
   "outputs": [
    {
     "name": "stdout",
     "output_type": "stream",
     "text": [
      "tensor([5., 3.], device='cuda:0')\n",
      "tensor([2, 1], device='cuda:0')\n"
     ]
    }
   ],
   "source": [
    "# what is the maximum value of the tensor above and at which index value for every row?\n",
    "index, value = torch.max(tensor, dim=1) # dimension 1 means row wise\n",
    "print(index)\n",
    "print(value)"
   ]
  },
  {
   "cell_type": "code",
   "execution_count": 53,
   "metadata": {},
   "outputs": [
    {
     "name": "stdout",
     "output_type": "stream",
     "text": [
      "tensor(-2., device='cuda:0')\n"
     ]
    }
   ],
   "source": [
    "# what is the minimum value of the tensor overall?\n",
    "value = torch.min(tensor)\n",
    "print(value)"
   ]
  },
  {
   "cell_type": "code",
   "execution_count": 54,
   "metadata": {},
   "outputs": [
    {
     "name": "stdout",
     "output_type": "stream",
     "text": [
      "tensor([-1., -1.,  3., -2.], device='cuda:0')\n",
      "tensor([1, 0, 1, 1], device='cuda:0')\n"
     ]
    }
   ],
   "source": [
    "# what is the minimum value of the tensor above and at which index value for every column?\n",
    "index, value = torch.min(tensor, dim=0) # dimension 0 means column wise\n",
    "print(index)\n",
    "print(value)"
   ]
  },
  {
   "cell_type": "code",
   "execution_count": 55,
   "metadata": {},
   "outputs": [
    {
     "name": "stdout",
     "output_type": "stream",
     "text": [
      "tensor([-1., -2.], device='cuda:0')\n",
      "tensor([1, 3], device='cuda:0')\n"
     ]
    }
   ],
   "source": [
    "# what is the minimum value of the tensor above and at which index value for every row?\n",
    "index, value = torch.min(tensor, dim=1) # dimension 1 means row wise\n",
    "print(index)\n",
    "print(value)"
   ]
  },
  {
   "cell_type": "code",
   "execution_count": 56,
   "metadata": {},
   "outputs": [
    {
     "name": "stdout",
     "output_type": "stream",
     "text": [
      "tensor([[2., 1., 5., 0.],\n",
      "        [1., 3., 3., 2.]], device='cuda:0')\n"
     ]
    }
   ],
   "source": [
    "# convert tensor to absolute values\n",
    "value = torch.abs(tensor)\n",
    "print(value)"
   ]
  },
  {
   "cell_type": "code",
   "execution_count": 57,
   "metadata": {},
   "outputs": [
    {
     "name": "stdout",
     "output_type": "stream",
     "text": [
      "tensor(2, device='cuda:0')\n"
     ]
    }
   ],
   "source": [
    "value = torch.argmax(tensor)\n",
    "print(value)"
   ]
  },
  {
   "cell_type": "code",
   "execution_count": 58,
   "metadata": {},
   "outputs": [
    {
     "name": "stdout",
     "output_type": "stream",
     "text": [
      "tensor(7, device='cuda:0')\n"
     ]
    }
   ],
   "source": [
    "value = torch.argmin(tensor)\n",
    "print(value)"
   ]
  },
  {
   "cell_type": "code",
   "execution_count": 59,
   "metadata": {},
   "outputs": [
    {
     "data": {
      "text/plain": [
       "tensor(1.1250, device='cuda:0')"
      ]
     },
     "execution_count": 59,
     "metadata": {},
     "output_type": "execute_result"
    }
   ],
   "source": [
    "# what is the mean value of the tensor overall?\n",
    "mean_tensor  = torch.mean(tensor)\n",
    "mean_tensor"
   ]
  },
  {
   "cell_type": "code",
   "execution_count": 60,
   "metadata": {},
   "outputs": [
    {
     "name": "stdout",
     "output_type": "stream",
     "text": [
      "tensor([[ 2., -1.,  5.,  0.],\n",
      "        [-1.,  3.,  3., -2.]], device='cuda:0')\n",
      "torch.return_types.sort(\n",
      "values=tensor([[-1.,  0.,  2.,  5.],\n",
      "        [-2., -1.,  3.,  3.]], device='cuda:0'),\n",
      "indices=tensor([[1, 3, 0, 2],\n",
      "        [3, 0, 2, 1]], device='cuda:0'))\n"
     ]
    }
   ],
   "source": [
    "# sorting the tensor row wise\n",
    "print(tensor)\n",
    "print(torch.sort(tensor, descending=False, dim=1))"
   ]
  },
  {
   "cell_type": "code",
   "execution_count": 61,
   "metadata": {},
   "outputs": [
    {
     "name": "stdout",
     "output_type": "stream",
     "text": [
      "tensor([[ 2., -1.,  5.,  0.],\n",
      "        [-1.,  3.,  3., -2.]], device='cuda:0')\n",
      "torch.return_types.sort(\n",
      "values=tensor([[-1., -1.,  3., -2.],\n",
      "        [ 2.,  3.,  5.,  0.]], device='cuda:0'),\n",
      "indices=tensor([[1, 0, 1, 1],\n",
      "        [0, 1, 0, 0]], device='cuda:0'))\n"
     ]
    }
   ],
   "source": [
    "# sorting the tensor column wise\n",
    "print(tensor)\n",
    "print(torch.sort(tensor, descending=False, dim=0))"
   ]
  }
 ],
 "metadata": {
  "kernelspec": {
   "display_name": "Python 3",
   "language": "python",
   "name": "python3"
  },
  "language_info": {
   "codemirror_mode": {
    "name": "ipython",
    "version": 3
   },
   "file_extension": ".py",
   "mimetype": "text/x-python",
   "name": "python",
   "nbconvert_exporter": "python",
   "pygments_lexer": "ipython3",
   "version": "3.9.2"
  }
 },
 "nbformat": 4,
 "nbformat_minor": 4
}
