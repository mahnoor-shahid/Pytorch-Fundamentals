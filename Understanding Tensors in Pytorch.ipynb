{
 "cells": [
  {
   "cell_type": "markdown",
   "metadata": {},
   "source": [
    "## Basics of Tensors\n",
    "\n",
    "A tensor is a generalization of vectors and matrices and is easily understood as a multidimensional array.It is a term and set of techniques known in machine learning in the training and operation of deep learning models can be described in terms of tensors. In many cases tensors are used as a replacement for NumPy to use the power of GPUs.\n",
    "\n",
    "Tensors are a type of data structure used in linear algebra, and like vectors and matrices, you can calculate arithmetic operations with tensors."
   ]
  },
  {
   "cell_type": "markdown",
   "metadata": {},
   "source": [
    "## You remember Numpy, right?"
   ]
  },
  {
   "cell_type": "code",
   "execution_count": 1,
   "metadata": {},
   "outputs": [],
   "source": [
    "# Creating an array using numpy library\n",
    "import numpy as np\n",
    "arr = np.array([1,2,3,4,5,6,7])"
   ]
  },
  {
   "cell_type": "code",
   "execution_count": 2,
   "metadata": {},
   "outputs": [
    {
     "name": "stdout",
     "output_type": "stream",
     "text": [
      "int32\n",
      "(7,)\n",
      "7\n"
     ]
    }
   ],
   "source": [
    "# data type of array\n",
    "print(arr.dtype)\n",
    "\n",
    "# shape of array\n",
    "print(arr.shape)\n",
    "print(arr.size)"
   ]
  },
  {
   "cell_type": "markdown",
   "metadata": {},
   "source": [
    "## Here comes... tensors!"
   ]
  },
  {
   "cell_type": "code",
   "execution_count": 3,
   "metadata": {},
   "outputs": [
    {
     "data": {
      "text/plain": [
       "'1.7.1'"
      ]
     },
     "execution_count": 3,
     "metadata": {},
     "output_type": "execute_result"
    }
   ],
   "source": [
    "# loading torch library \n",
    "import torch \n",
    "\n",
    "# checking the version of torch library\n",
    "torch.__version__"
   ]
  },
  {
   "cell_type": "code",
   "execution_count": 4,
   "metadata": {},
   "outputs": [
    {
     "data": {
      "text/plain": [
       "tensor([1, 2, 3, 4, 5, 6, 7], dtype=torch.int32)"
      ]
     },
     "execution_count": 4,
     "metadata": {},
     "output_type": "execute_result"
    }
   ],
   "source": [
    "# converting the numpy array arr to tensor\n",
    "tensor = torch.from_numpy(arr)\n",
    "tensor"
   ]
  },
  {
   "cell_type": "code",
   "execution_count": 5,
   "metadata": {},
   "outputs": [
    {
     "name": "stdout",
     "output_type": "stream",
     "text": [
      "torch.Size([7])\n",
      "torch.Size([7])\n"
     ]
    }
   ],
   "source": [
    "# checking the shape or size of tensor\n",
    "print(tensor.shape)\n",
    "print(tensor.size())"
   ]
  },
  {
   "cell_type": "code",
   "execution_count": 6,
   "metadata": {},
   "outputs": [
    {
     "name": "stdout",
     "output_type": "stream",
     "text": [
      "tensor(5, dtype=torch.int32)\n",
      "tensor([1, 2, 3, 4], dtype=torch.int32)\n",
      "tensor([5, 6, 7], dtype=torch.int32)\n"
     ]
    }
   ],
   "source": [
    "# accessing tensor using indexing like arrays\n",
    "print(tensor[4])\n",
    "print(tensor[:4])\n",
    "print(tensor[4:])"
   ]
  },
  {
   "cell_type": "code",
   "execution_count": 7,
   "metadata": {},
   "outputs": [
    {
     "name": "stdout",
     "output_type": "stream",
     "text": [
      "tensor([   1,    2,    3,    4,    5,    6, 1000], dtype=torch.int32)\n"
     ]
    }
   ],
   "source": [
    "# changing the value of tensor[6] that is 7th element\n",
    "tensor[6] = 1000\n",
    "print(tensor)"
   ]
  },
  {
   "cell_type": "code",
   "execution_count": 8,
   "metadata": {},
   "outputs": [
    {
     "name": "stdout",
     "output_type": "stream",
     "text": [
      "Nope! arr and tensor are different now!\n"
     ]
    }
   ],
   "source": [
    "# array arr has the same effect because they share the same memory location\n",
    "if(arr==tensor):\n",
    "    print(\"Yes! arr has been affected too!\")\n",
    "else:\n",
    "    print(\"Nope! arr and tensor are different now!\")"
   ]
  },
  {
   "cell_type": "code",
   "execution_count": 9,
   "metadata": {},
   "outputs": [
    {
     "name": "stdout",
     "output_type": "stream",
     "text": [
      "tensor([   1,    2,    3,    4,    5,    6, 1000], dtype=torch.int32)\n",
      "Nope! arr and tensor are different now!\n"
     ]
    }
   ],
   "source": [
    "# make a copy of that array separately\n",
    "tensor = torch.tensor(arr)\n",
    "print(tensor)\n",
    "tensor[0] = 101\n",
    "\n",
    "# let's check again if arr and tensor are still same?\n",
    "if(arr==tensor):\n",
    "    print(\"Yes! arr has been affected too!\")\n",
    "else:\n",
    "    print(\"Nope! arr and tensor are different now!\")"
   ]
  },
  {
   "cell_type": "markdown",
   "metadata": {},
   "source": [
    "## Wanna play with some built-in methods?"
   ]
  },
  {
   "cell_type": "code",
   "execution_count": 10,
   "metadata": {},
   "outputs": [
    {
     "data": {
      "text/plain": [
       "tensor([[0., 0., 0.],\n",
       "        [0., 0., 0.],\n",
       "        [0., 0., 0.],\n",
       "        [0., 0., 0.]], dtype=torch.float64)"
      ]
     },
     "execution_count": 10,
     "metadata": {},
     "output_type": "execute_result"
    }
   ],
   "source": [
    "# creating a tensor using zeros method\n",
    "tensor = torch.zeros(4,3,dtype=torch.float64)\n",
    "tensor"
   ]
  },
  {
   "cell_type": "code",
   "execution_count": 11,
   "metadata": {},
   "outputs": [
    {
     "data": {
      "text/plain": [
       "tensor([[1, 1],\n",
       "        [1, 1],\n",
       "        [1, 1]])"
      ]
     },
     "execution_count": 11,
     "metadata": {},
     "output_type": "execute_result"
    }
   ],
   "source": [
    "# creating a tensor using ones method\n",
    "tensor = torch.ones(3,2,dtype=torch.int64)\n",
    "tensor"
   ]
  },
  {
   "cell_type": "code",
   "execution_count": 12,
   "metadata": {},
   "outputs": [
    {
     "data": {
      "text/plain": [
       "tensor([[ 1,  2,  3,  4],\n",
       "        [ 5,  6,  7,  8],\n",
       "        [ 9, 10, 11, 12]], dtype=torch.int32)"
      ]
     },
     "execution_count": 12,
     "metadata": {},
     "output_type": "execute_result"
    }
   ],
   "source": [
    "# creating a 3x4 tensor of sequence 1 to 12\n",
    "tensor = torch.tensor(np.arange(1,13).reshape(3,4))\n",
    "tensor"
   ]
  },
  {
   "cell_type": "code",
   "execution_count": 13,
   "metadata": {},
   "outputs": [
    {
     "data": {
      "text/plain": [
       "tensor([[ 1,  2],\n",
       "        [ 5,  6],\n",
       "        [ 9, 10]], dtype=torch.int32)"
      ]
     },
     "execution_count": 13,
     "metadata": {},
     "output_type": "execute_result"
    }
   ],
   "source": [
    "# just get the 1st and 2nd columns of the tensor \n",
    "tensor[:,0:2]"
   ]
  },
  {
   "cell_type": "markdown",
   "metadata": {},
   "source": [
    "## How about some mathematical operations?"
   ]
  },
  {
   "cell_type": "code",
   "execution_count": 14,
   "metadata": {},
   "outputs": [
    {
     "name": "stdout",
     "output_type": "stream",
     "text": [
      "tensor([[11, 12, 13, 14],\n",
      "        [15, 16, 17, 18],\n",
      "        [19, 20, 21, 22]], dtype=torch.int32)\n",
      "tensor([[11, 12, 13, 14],\n",
      "        [15, 16, 17, 18],\n",
      "        [19, 20, 21, 22]], dtype=torch.int32)\n"
     ]
    }
   ],
   "source": [
    "# add a scalar value to tensor made above using 2 different methods\n",
    "\n",
    "# method 1\n",
    "print(tensor + 10)\n",
    "\n",
    "# method 2\n",
    "print(torch.add(tensor,10))"
   ]
  },
  {
   "cell_type": "code",
   "execution_count": 15,
   "metadata": {},
   "outputs": [
    {
     "name": "stdout",
     "output_type": "stream",
     "text": [
      "tensor([[11., 22., 33., 44.],\n",
      "        [15., 26., 37., 48.],\n",
      "        [19., 30., 41., 52.]], dtype=torch.float64)\n",
      "tensor([[ 3.,  6.,  9., 12.],\n",
      "        [ 7., 10., 13., 16.],\n",
      "        [11., 14., 17., 20.]], dtype=torch.float64)\n",
      "tensor([[ 8., 16., 24., 32.],\n",
      "        [12., 20., 28., 36.],\n",
      "        [16., 24., 32., 40.]], dtype=torch.float64)\n"
     ]
    }
   ],
   "source": [
    "# add a tensor to the tensor made above using 2 different methods and store it in c variable\n",
    "\n",
    "# method 1\n",
    "c = tensor + torch.tensor(np.arange(10,41,10), dtype=torch.float64)\n",
    "print(c)\n",
    "\n",
    "# method 2\n",
    "c = torch.add(tensor,torch.tensor(np.arange(2,9,2), dtype=torch.float64))\n",
    "print(c)\n",
    "\n",
    "# the same operation above can be done using out argument of add method but initializing output variable is necessary\n",
    "d = torch.zeros(3,4,dtype=torch.float64)\n",
    "torch.add(tensor, torch.tensor(np.arange(7,30,7), dtype=torch.float64), out=d)\n",
    "print(d)"
   ]
  },
  {
   "cell_type": "code",
   "execution_count": 16,
   "metadata": {},
   "outputs": [
    {
     "name": "stdout",
     "output_type": "stream",
     "text": [
      "tensor(138., dtype=torch.float64)\n",
      "tensor(288., dtype=torch.float64)\n"
     ]
    }
   ],
   "source": [
    "# get a total of all the values in tensor c and d\n",
    "print(c.sum())\n",
    "print(d.sum())"
   ]
  },
  {
   "cell_type": "markdown",
   "metadata": {},
   "source": [
    "## Are you afraid of multiplication and dot products of tensors? Don't be."
   ]
  },
  {
   "cell_type": "code",
   "execution_count": 17,
   "metadata": {},
   "outputs": [
    {
     "name": "stdout",
     "output_type": "stream",
     "text": [
      "tensor([1., 2., 3., 4.], dtype=torch.float64)\n",
      "tensor([5., 6., 7., 8.], dtype=torch.float64)\n"
     ]
    }
   ],
   "source": [
    "# create 1D two tensors x and y \n",
    "x = torch.tensor(np.arange(1,5,1), dtype=torch.float64)\n",
    "y = torch.tensor(np.arange(5,9,1), dtype=torch.float64)\n",
    "print(x)\n",
    "print(y)"
   ]
  },
  {
   "cell_type": "code",
   "execution_count": 18,
   "metadata": {},
   "outputs": [
    {
     "data": {
      "text/plain": [
       "tensor([ 5., 12., 21., 32.], dtype=torch.float64)"
      ]
     },
     "execution_count": 18,
     "metadata": {},
     "output_type": "execute_result"
    }
   ],
   "source": [
    "# using mul method to multiply x and y\n",
    "z = torch.ones(4,dtype=torch.float64)\n",
    "torch.mul(x, y, out=z)"
   ]
  },
  {
   "cell_type": "code",
   "execution_count": 19,
   "metadata": {},
   "outputs": [
    {
     "data": {
      "text/plain": [
       "tensor(70., dtype=torch.float64)"
      ]
     },
     "execution_count": 19,
     "metadata": {},
     "output_type": "execute_result"
    }
   ],
   "source": [
    "# using dot method to get the dot product of tensors x and y\n",
    "# (1*5) + (2*6)+ (3*7) + (4*8)\n",
    "answer = torch.tensor(0, dtype=torch.float64)\n",
    "torch.dot(x,y, out=answer)"
   ]
  },
  {
   "cell_type": "code",
   "execution_count": 20,
   "metadata": {},
   "outputs": [
    {
     "name": "stdout",
     "output_type": "stream",
     "text": [
      "tensor([[1., 1., 1.],\n",
      "        [2., 2., 2.],\n",
      "        [3., 3., 3.]], dtype=torch.float64)\n",
      "tensor([1., 2., 3., 4., 5., 6., 7., 8., 9.], dtype=torch.float64)\n",
      "tensor([[1., 2., 3.],\n",
      "        [4., 5., 6.],\n",
      "        [7., 8., 9.]], dtype=torch.float64)\n"
     ]
    }
   ],
   "source": [
    "# create 2D two tensors x and y \n",
    "x = torch.tensor(np.repeat([1,2,3],3).reshape(3,3), dtype=torch.float64)\n",
    "y = torch.tensor(np.arange(1,10,1), dtype=torch.float64)\n",
    "print(x)\n",
    "print(y)\n",
    "\n",
    "# Reshape tensor y to 3x3\n",
    "y = y.view(3,3)\n",
    "print(y)"
   ]
  },
  {
   "cell_type": "code",
   "execution_count": 31,
   "metadata": {},
   "outputs": [
    {
     "name": "stdout",
     "output_type": "stream",
     "text": [
      "tensor([[ 1.,  2.,  3.],\n",
      "        [ 8., 10., 12.],\n",
      "        [21., 24., 27.]], dtype=torch.float64)\n",
      "tensor([[12., 15., 18.],\n",
      "        [24., 30., 36.],\n",
      "        [36., 45., 54.]], dtype=torch.float64)\n",
      "Yes! matmul function works the same way as x@y.\n"
     ]
    }
   ],
   "source": [
    "# using mul method to multiply x and y\n",
    "z1 = torch.ones(3,3, dtype=torch.float64)\n",
    "torch.mul(x, y, out = z1)\n",
    "print(z1)\n",
    "\n",
    "# using matmul method to perform matrix multiplication on tensors x and y\n",
    "z2 = torch.ones(3,3, dtype=torch.float64)\n",
    "torch.matmul(x, y, out = z2)\n",
    "print(z2)\n",
    "\n",
    "# using x@y to perform matmul operation\n",
    "if torch.all(torch.eq(x@y, z2)):\n",
    "    print(\"Yes! matmul function works the same way as x@y.\")\n",
    "else:\n",
    "    print(\"No! matmul function does not works the same way as x@y.\")"
   ]
  },
  {
   "cell_type": "markdown",
   "metadata": {},
   "source": [
    "### Difference between mul and matmul methods\n",
    "**mul** method is used to perform scalar multiplication on tensors where each value of a matrix is multiplied by the corresponding value from another matrix yet, **matmul** or **mm** performs the proper matrix multiplication. "
   ]
  }
 ],
 "metadata": {
  "kernelspec": {
   "display_name": "Python 3",
   "language": "python",
   "name": "python3"
  },
  "language_info": {
   "codemirror_mode": {
    "name": "ipython",
    "version": 3
   },
   "file_extension": ".py",
   "mimetype": "text/x-python",
   "name": "python",
   "nbconvert_exporter": "python",
   "pygments_lexer": "ipython3",
   "version": "3.7.3"
  }
 },
 "nbformat": 4,
 "nbformat_minor": 4
}
